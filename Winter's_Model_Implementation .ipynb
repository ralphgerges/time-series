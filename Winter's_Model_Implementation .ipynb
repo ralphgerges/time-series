{
  "nbformat": 4,
  "nbformat_minor": 0,
  "metadata": {
    "colab": {
      "provenance": []
    },
    "kernelspec": {
      "name": "python3",
      "display_name": "Python 3"
    },
    "language_info": {
      "name": "python"
    }
  },
  "cells": [
    {
      "cell_type": "markdown",
      "source": [
        "## Import Libraries"
      ],
      "metadata": {
        "id": "xnNetK09VIgR"
      }
    },
    {
      "cell_type": "code",
      "execution_count": 45,
      "metadata": {
        "id": "3VotUanBXY3W"
      },
      "outputs": [],
      "source": [
        "import numpy as np\n",
        "import pandas as pd\n",
        "import matplotlib.pyplot as plt"
      ]
    },
    {
      "cell_type": "markdown",
      "source": [
        "## Holt-Winter's Model"
      ],
      "metadata": {
        "id": "yP1SxgOeVOmV"
      }
    },
    {
      "cell_type": "code",
      "source": [
        "class WintersModel:\n",
        "  def __init__(self, alpha, beta, gamma, s):\n",
        "    self.alpha = alpha\n",
        "    self.beta = beta\n",
        "    self.gamma = gamma\n",
        "    self.s = s\n",
        "\n",
        "  def train(self, dataset):\n",
        "    self.dataset = dataset\n",
        "    self.level = np.zeros(len(dataset))\n",
        "    self.trend = np.zeros(len(dataset))\n",
        "    self.seasonality = np.zeros(len(dataset))\n",
        "    self.forecast = np.zeros(len(dataset))\n",
        "\n",
        "    #initial values\n",
        "    self.seasonality[0] = dataset[0] / sum(dataset[:self.s])\n",
        "    self.level[0] = dataset[0] / self.seasonality[0]\n",
        "    self.trend[0] = sum([float(dataset[i + self.s] - dataset[i]) for i in range(self.s)]) / self.s\n",
        "    self.forecast[0] = dataset[0]\n",
        "\n",
        "    #formulas\n",
        "    for i in range(1, len(dataset)):\n",
        "      self.seasonality[i] = dataset[i] / sum(dataset[i//self.s * self.s:(i//self.s + 1) * self.s])\n",
        "      self.level[i] = self.alpha * (dataset[i] / self.seasonality[i]) + (1 - self.alpha) * (self.level[i - 1] + self.trend[i - 1])\n",
        "      self.trend[i] = self.beta * (self.level[i] - self.level[i - 1]) + (1 - self.beta) * self.trend[i - 1]\n",
        "      self.forecast[i] = (self.level[i - 1] + self.trend[i - 1]) * self.seasonality[i]\n",
        "\n",
        "  #Forecasting\n",
        "  def predict(self, steps):\n",
        "    forcasted_values= np.zeros(steps)\n",
        "    for i in range(steps):\n",
        "      forcasted_values[i] = (self.level[- 1] + self.trend[- 1]) * self.seasonality[i]\n",
        "    return forcasted_values\n",
        "\n",
        "  # Mean Absolute Deviation\n",
        "  def get_MAD(self):\n",
        "    mad = sum([abs(self.dataset[i] - self.forecast[i]) for i in range(len(self.dataset))])\n",
        "    return mad\n",
        "\n",
        "  # Mean Squared Deviation\n",
        "  def get_MSD(self):\n",
        "    msd = sum([(self.dataset[i] - self.forecast[i])**2 for i in range(len(self.dataset))])\n",
        "    return msd\n",
        "\n",
        "  # Mean Percentage Deviation(MPD)\n",
        "  def get_MPD(self):\n",
        "    mpd = 100 * sum([abs(self.dataset[i] - self.forecast[i])/self.dataset[i] for i in range(len(self.dataset))])\n",
        "    return mpd\n",
        "\n",
        "  #Overall Evaluation\n",
        "  def evaluate(self):\n",
        "    evaluation = {\n",
        "       'Mean Absolute Deviation(MAD)' : self.get_MAD(),\n",
        "       'Mean Squared Deviation(MSD)' : self.get_MSD(),\n",
        "       'Mean Percentage Deviation(MPD)' : self.get_MPD()\n",
        "    }\n",
        "    return evaluation"
      ],
      "metadata": {
        "id": "KivCWCTYXz7_"
      },
      "execution_count": 46,
      "outputs": []
    },
    {
      "cell_type": "markdown",
      "source": [
        "## Testing the model with the 'sales' dataset"
      ],
      "metadata": {
        "id": "GtHme_wgWVl9"
      }
    },
    {
      "cell_type": "code",
      "source": [
        "dataset = pd.read_csv('/sales.csv')\n",
        "dataset.head()"
      ],
      "metadata": {
        "colab": {
          "base_uri": "https://localhost:8080/",
          "height": 206
        },
        "id": "Zg3HXZ4PadhG",
        "outputId": "bed90605-850e-44ac-a42b-1c4ea3b3d9be"
      },
      "execution_count": 48,
      "outputs": [
        {
          "output_type": "execute_result",
          "data": {
            "text/plain": [
              "  Month  Sales\n",
              "0  1-01  266.0\n",
              "1  1-02  145.9\n",
              "2  1-03  183.1\n",
              "3  1-04  119.3\n",
              "4  1-05  180.3"
            ],
            "text/html": [
              "\n",
              "  <div id=\"df-342d1eee-6620-4aac-8636-ab728d3d315b\" class=\"colab-df-container\">\n",
              "    <div>\n",
              "<style scoped>\n",
              "    .dataframe tbody tr th:only-of-type {\n",
              "        vertical-align: middle;\n",
              "    }\n",
              "\n",
              "    .dataframe tbody tr th {\n",
              "        vertical-align: top;\n",
              "    }\n",
              "\n",
              "    .dataframe thead th {\n",
              "        text-align: right;\n",
              "    }\n",
              "</style>\n",
              "<table border=\"1\" class=\"dataframe\">\n",
              "  <thead>\n",
              "    <tr style=\"text-align: right;\">\n",
              "      <th></th>\n",
              "      <th>Month</th>\n",
              "      <th>Sales</th>\n",
              "    </tr>\n",
              "  </thead>\n",
              "  <tbody>\n",
              "    <tr>\n",
              "      <th>0</th>\n",
              "      <td>1-01</td>\n",
              "      <td>266.0</td>\n",
              "    </tr>\n",
              "    <tr>\n",
              "      <th>1</th>\n",
              "      <td>1-02</td>\n",
              "      <td>145.9</td>\n",
              "    </tr>\n",
              "    <tr>\n",
              "      <th>2</th>\n",
              "      <td>1-03</td>\n",
              "      <td>183.1</td>\n",
              "    </tr>\n",
              "    <tr>\n",
              "      <th>3</th>\n",
              "      <td>1-04</td>\n",
              "      <td>119.3</td>\n",
              "    </tr>\n",
              "    <tr>\n",
              "      <th>4</th>\n",
              "      <td>1-05</td>\n",
              "      <td>180.3</td>\n",
              "    </tr>\n",
              "  </tbody>\n",
              "</table>\n",
              "</div>\n",
              "    <div class=\"colab-df-buttons\">\n",
              "\n",
              "  <div class=\"colab-df-container\">\n",
              "    <button class=\"colab-df-convert\" onclick=\"convertToInteractive('df-342d1eee-6620-4aac-8636-ab728d3d315b')\"\n",
              "            title=\"Convert this dataframe to an interactive table.\"\n",
              "            style=\"display:none;\">\n",
              "\n",
              "  <svg xmlns=\"http://www.w3.org/2000/svg\" height=\"24px\" viewBox=\"0 -960 960 960\">\n",
              "    <path d=\"M120-120v-720h720v720H120Zm60-500h600v-160H180v160Zm220 220h160v-160H400v160Zm0 220h160v-160H400v160ZM180-400h160v-160H180v160Zm440 0h160v-160H620v160ZM180-180h160v-160H180v160Zm440 0h160v-160H620v160Z\"/>\n",
              "  </svg>\n",
              "    </button>\n",
              "\n",
              "  <style>\n",
              "    .colab-df-container {\n",
              "      display:flex;\n",
              "      gap: 12px;\n",
              "    }\n",
              "\n",
              "    .colab-df-convert {\n",
              "      background-color: #E8F0FE;\n",
              "      border: none;\n",
              "      border-radius: 50%;\n",
              "      cursor: pointer;\n",
              "      display: none;\n",
              "      fill: #1967D2;\n",
              "      height: 32px;\n",
              "      padding: 0 0 0 0;\n",
              "      width: 32px;\n",
              "    }\n",
              "\n",
              "    .colab-df-convert:hover {\n",
              "      background-color: #E2EBFA;\n",
              "      box-shadow: 0px 1px 2px rgba(60, 64, 67, 0.3), 0px 1px 3px 1px rgba(60, 64, 67, 0.15);\n",
              "      fill: #174EA6;\n",
              "    }\n",
              "\n",
              "    .colab-df-buttons div {\n",
              "      margin-bottom: 4px;\n",
              "    }\n",
              "\n",
              "    [theme=dark] .colab-df-convert {\n",
              "      background-color: #3B4455;\n",
              "      fill: #D2E3FC;\n",
              "    }\n",
              "\n",
              "    [theme=dark] .colab-df-convert:hover {\n",
              "      background-color: #434B5C;\n",
              "      box-shadow: 0px 1px 3px 1px rgba(0, 0, 0, 0.15);\n",
              "      filter: drop-shadow(0px 1px 2px rgba(0, 0, 0, 0.3));\n",
              "      fill: #FFFFFF;\n",
              "    }\n",
              "  </style>\n",
              "\n",
              "    <script>\n",
              "      const buttonEl =\n",
              "        document.querySelector('#df-342d1eee-6620-4aac-8636-ab728d3d315b button.colab-df-convert');\n",
              "      buttonEl.style.display =\n",
              "        google.colab.kernel.accessAllowed ? 'block' : 'none';\n",
              "\n",
              "      async function convertToInteractive(key) {\n",
              "        const element = document.querySelector('#df-342d1eee-6620-4aac-8636-ab728d3d315b');\n",
              "        const dataTable =\n",
              "          await google.colab.kernel.invokeFunction('convertToInteractive',\n",
              "                                                    [key], {});\n",
              "        if (!dataTable) return;\n",
              "\n",
              "        const docLinkHtml = 'Like what you see? Visit the ' +\n",
              "          '<a target=\"_blank\" href=https://colab.research.google.com/notebooks/data_table.ipynb>data table notebook</a>'\n",
              "          + ' to learn more about interactive tables.';\n",
              "        element.innerHTML = '';\n",
              "        dataTable['output_type'] = 'display_data';\n",
              "        await google.colab.output.renderOutput(dataTable, element);\n",
              "        const docLink = document.createElement('div');\n",
              "        docLink.innerHTML = docLinkHtml;\n",
              "        element.appendChild(docLink);\n",
              "      }\n",
              "    </script>\n",
              "  </div>\n",
              "\n",
              "\n",
              "<div id=\"df-3f1791d4-9afc-4874-9e57-1d317bfadb7b\">\n",
              "  <button class=\"colab-df-quickchart\" onclick=\"quickchart('df-3f1791d4-9afc-4874-9e57-1d317bfadb7b')\"\n",
              "            title=\"Suggest charts\"\n",
              "            style=\"display:none;\">\n",
              "\n",
              "<svg xmlns=\"http://www.w3.org/2000/svg\" height=\"24px\"viewBox=\"0 0 24 24\"\n",
              "     width=\"24px\">\n",
              "    <g>\n",
              "        <path d=\"M19 3H5c-1.1 0-2 .9-2 2v14c0 1.1.9 2 2 2h14c1.1 0 2-.9 2-2V5c0-1.1-.9-2-2-2zM9 17H7v-7h2v7zm4 0h-2V7h2v10zm4 0h-2v-4h2v4z\"/>\n",
              "    </g>\n",
              "</svg>\n",
              "  </button>\n",
              "\n",
              "<style>\n",
              "  .colab-df-quickchart {\n",
              "      --bg-color: #E8F0FE;\n",
              "      --fill-color: #1967D2;\n",
              "      --hover-bg-color: #E2EBFA;\n",
              "      --hover-fill-color: #174EA6;\n",
              "      --disabled-fill-color: #AAA;\n",
              "      --disabled-bg-color: #DDD;\n",
              "  }\n",
              "\n",
              "  [theme=dark] .colab-df-quickchart {\n",
              "      --bg-color: #3B4455;\n",
              "      --fill-color: #D2E3FC;\n",
              "      --hover-bg-color: #434B5C;\n",
              "      --hover-fill-color: #FFFFFF;\n",
              "      --disabled-bg-color: #3B4455;\n",
              "      --disabled-fill-color: #666;\n",
              "  }\n",
              "\n",
              "  .colab-df-quickchart {\n",
              "    background-color: var(--bg-color);\n",
              "    border: none;\n",
              "    border-radius: 50%;\n",
              "    cursor: pointer;\n",
              "    display: none;\n",
              "    fill: var(--fill-color);\n",
              "    height: 32px;\n",
              "    padding: 0;\n",
              "    width: 32px;\n",
              "  }\n",
              "\n",
              "  .colab-df-quickchart:hover {\n",
              "    background-color: var(--hover-bg-color);\n",
              "    box-shadow: 0 1px 2px rgba(60, 64, 67, 0.3), 0 1px 3px 1px rgba(60, 64, 67, 0.15);\n",
              "    fill: var(--button-hover-fill-color);\n",
              "  }\n",
              "\n",
              "  .colab-df-quickchart-complete:disabled,\n",
              "  .colab-df-quickchart-complete:disabled:hover {\n",
              "    background-color: var(--disabled-bg-color);\n",
              "    fill: var(--disabled-fill-color);\n",
              "    box-shadow: none;\n",
              "  }\n",
              "\n",
              "  .colab-df-spinner {\n",
              "    border: 2px solid var(--fill-color);\n",
              "    border-color: transparent;\n",
              "    border-bottom-color: var(--fill-color);\n",
              "    animation:\n",
              "      spin 1s steps(1) infinite;\n",
              "  }\n",
              "\n",
              "  @keyframes spin {\n",
              "    0% {\n",
              "      border-color: transparent;\n",
              "      border-bottom-color: var(--fill-color);\n",
              "      border-left-color: var(--fill-color);\n",
              "    }\n",
              "    20% {\n",
              "      border-color: transparent;\n",
              "      border-left-color: var(--fill-color);\n",
              "      border-top-color: var(--fill-color);\n",
              "    }\n",
              "    30% {\n",
              "      border-color: transparent;\n",
              "      border-left-color: var(--fill-color);\n",
              "      border-top-color: var(--fill-color);\n",
              "      border-right-color: var(--fill-color);\n",
              "    }\n",
              "    40% {\n",
              "      border-color: transparent;\n",
              "      border-right-color: var(--fill-color);\n",
              "      border-top-color: var(--fill-color);\n",
              "    }\n",
              "    60% {\n",
              "      border-color: transparent;\n",
              "      border-right-color: var(--fill-color);\n",
              "    }\n",
              "    80% {\n",
              "      border-color: transparent;\n",
              "      border-right-color: var(--fill-color);\n",
              "      border-bottom-color: var(--fill-color);\n",
              "    }\n",
              "    90% {\n",
              "      border-color: transparent;\n",
              "      border-bottom-color: var(--fill-color);\n",
              "    }\n",
              "  }\n",
              "</style>\n",
              "\n",
              "  <script>\n",
              "    async function quickchart(key) {\n",
              "      const quickchartButtonEl =\n",
              "        document.querySelector('#' + key + ' button');\n",
              "      quickchartButtonEl.disabled = true;  // To prevent multiple clicks.\n",
              "      quickchartButtonEl.classList.add('colab-df-spinner');\n",
              "      try {\n",
              "        const charts = await google.colab.kernel.invokeFunction(\n",
              "            'suggestCharts', [key], {});\n",
              "      } catch (error) {\n",
              "        console.error('Error during call to suggestCharts:', error);\n",
              "      }\n",
              "      quickchartButtonEl.classList.remove('colab-df-spinner');\n",
              "      quickchartButtonEl.classList.add('colab-df-quickchart-complete');\n",
              "    }\n",
              "    (() => {\n",
              "      let quickchartButtonEl =\n",
              "        document.querySelector('#df-3f1791d4-9afc-4874-9e57-1d317bfadb7b button');\n",
              "      quickchartButtonEl.style.display =\n",
              "        google.colab.kernel.accessAllowed ? 'block' : 'none';\n",
              "    })();\n",
              "  </script>\n",
              "</div>\n",
              "\n",
              "    </div>\n",
              "  </div>\n"
            ],
            "application/vnd.google.colaboratory.intrinsic+json": {
              "type": "dataframe",
              "variable_name": "dataset",
              "summary": "{\n  \"name\": \"dataset\",\n  \"rows\": 36,\n  \"fields\": [\n    {\n      \"column\": \"Month\",\n      \"properties\": {\n        \"dtype\": \"string\",\n        \"num_unique_values\": 36,\n        \"samples\": [\n          \"3-12\",\n          \"2-02\",\n          \"3-03\"\n        ],\n        \"semantic_type\": \"\",\n        \"description\": \"\"\n      }\n    },\n    {\n      \"column\": \"Sales\",\n      \"properties\": {\n        \"dtype\": \"number\",\n        \"std\": 148.93716412347476,\n        \"min\": 119.3,\n        \"max\": 682.0,\n        \"num_unique_values\": 36,\n        \"samples\": [\n          646.9,\n          149.5,\n          315.9\n        ],\n        \"semantic_type\": \"\",\n        \"description\": \"\"\n      }\n    }\n  ]\n}"
            }
          },
          "metadata": {},
          "execution_count": 48
        }
      ]
    },
    {
      "cell_type": "code",
      "source": [
        "sales = dataset['Sales'].values\n",
        "\n",
        "model = WintersModel( alpha=0.2, beta=0.3, gamma=0.002, s= 4)\n",
        "model.train(dataset= sales)\n",
        "forecasted_values = model.predict(steps = 15)\n",
        "\n",
        "\n",
        "details_df = pd.DataFrame({\n",
        "    'Data': sales,\n",
        "    'Level': model.level,\n",
        "    'Seasonality': model.seasonality,\n",
        "    'Trend': model.trend,\n",
        "    'Forecast': model.forecast\n",
        "})\n",
        "\n",
        "\n",
        "print(details_df)\n",
        "\n"
      ],
      "metadata": {
        "colab": {
          "base_uri": "https://localhost:8080/"
        },
        "id": "jc07GJl1cKjr",
        "outputId": "0c02f14f-a274-496f-e735-36c142046193"
      },
      "execution_count": 49,
      "outputs": [
        {
          "output_type": "stream",
          "name": "stdout",
          "text": [
            "     Data        Level  Seasonality       Trend    Forecast\n",
            "0   266.0   714.300000     0.372393   22.700000  266.000000\n",
            "1   145.9   732.460000     0.204256   21.338000  150.536609\n",
            "2   183.1   745.898400     0.256335   18.968120  193.224715\n",
            "3   119.3   754.753216     0.167017   15.934129  127.745451\n",
            "4   180.3   777.569876     0.223947   17.998888  172.593378\n",
            "5   168.5   797.475011     0.209291   18.570762  166.505200\n",
            "6   231.8   813.856619     0.287915   17.914016  234.951447\n",
            "7   224.5   826.436508     0.278847   16.313778  231.937036\n",
            "8   192.8   841.820228     0.230044   16.034761  193.869771\n",
            "9   122.9   853.903991     0.146641   14.849461  125.796896\n",
            "10  336.5   862.622762     0.401503   13.010254  348.807465\n",
            "11  185.9   868.126413     0.221811   10.758273  194.225245\n",
            "12  194.3   868.547749     0.234889    7.657192  206.440153\n",
            "13  149.5   866.403953     0.180730    4.716896  158.356672\n",
            "14  210.1   862.336679     0.253989    2.081645  221.255428\n",
            "15  273.3   856.974659     0.330392   -0.151455  285.596624\n",
            "16  191.4   887.058563     0.189881    8.919153  162.694406\n",
            "17  287.0   918.382173     0.284722   15.640490  255.104766\n",
            "18  226.0   948.818130     0.224206   20.079130  209.413811\n",
            "19  303.6   976.717809     0.301190   22.425295  291.822627\n",
            "20  289.9  1062.974483     0.219904   41.574708  219.715987\n",
            "21  421.6  1147.299353     0.319806   54.399757  353.241249\n",
            "22  264.5  1225.019288     0.200637   61.395810  241.105526\n",
            "23  342.3  1292.792079     0.259653   63.308905  334.021003\n",
            "24  339.7  1391.940786     0.221260   74.060846  300.050481\n",
            "25  440.4  1479.861306     0.286849   78.218748  420.521799\n",
            "26  315.9  1553.524043     0.205758   76.851944  320.587174\n",
            "27  439.3  1611.360790     0.286133   71.147385  466.504378\n",
            "28  401.3  1710.366540     0.220277   79.504895  370.617263\n",
            "29  437.4  1796.257148     0.240092   81.420609  429.734200\n",
            "30  575.5  1866.502205     0.315896   78.067943  593.151580\n",
            "31  407.6  1920.016119     0.223735   70.701734  435.067951\n",
            "32  682.0  2069.674282     0.285894   94.388663  569.134176\n",
            "33  475.3  2208.350356     0.199245  107.674886  431.179676\n",
            "34  581.3  2329.920194     0.243681  111.843372  564.370352\n",
            "35  646.9  2430.510853     0.271180  108.467558  662.157556\n"
          ]
        }
      ]
    },
    {
      "cell_type": "markdown",
      "source": [
        "## Model Evaluation"
      ],
      "metadata": {
        "id": "lxha6svLfvwH"
      }
    },
    {
      "cell_type": "code",
      "source": [
        "evaluation = model.evaluate()\n",
        "print(evaluation)"
      ],
      "metadata": {
        "colab": {
          "base_uri": "https://localhost:8080/"
        },
        "id": "ZscEwhuOfz2L",
        "outputId": "acf0ccd8-e366-4807-8edf-7aad2697b357"
      },
      "execution_count": 51,
      "outputs": [
        {
          "output_type": "stream",
          "name": "stdout",
          "text": [
            "{'Mean Absolute Deviation(MAD)': 735.7862503542527, 'Mean Squared Deviation(MSD)': 33525.66293656346, 'Mean Percentage Deviation(MPD)': 222.13215207605376}\n"
          ]
        }
      ]
    },
    {
      "cell_type": "markdown",
      "source": [
        "## Ploting Results"
      ],
      "metadata": {
        "id": "iIfgFwndWyOR"
      }
    },
    {
      "cell_type": "code",
      "source": [
        "def plot_forecast(data, forecast):\n",
        "    plt.figure(figsize=(10, 6))\n",
        "    plt.plot(data, linewidth=2, label='Initial Values')\n",
        "    plt.plot(model.forecast, linewidth=2, label='Forecasted Values')\n",
        "    plt.plot(range(len(data), len(data) + len(forecast)), forecast, linewidth=2, label='Future Values Forecast')\n",
        "\n",
        "    # Highlight future period\n",
        "    plt.axvspan(len(data), len(data) + len(forecast), facecolor='grey', alpha=0.25)\n",
        "\n",
        "    plt.xlabel('Time')\n",
        "    plt.ylabel('Sales')\n",
        "    plt.title('Shampoo Sales and Forecasted Values')\n",
        "    plt.legend()\n",
        "    plt.show()\n",
        "\n",
        "\n",
        "plot_forecast(sales, forecasted_values)"
      ],
      "metadata": {
        "colab": {
          "base_uri": "https://localhost:8080/",
          "height": 564
        },
        "id": "jClH7pzuW_pw",
        "outputId": "4bbc70a9-35d2-4e17-8d2f-d77b5a8361c7"
      },
      "execution_count": 50,
      "outputs": [
        {
          "output_type": "display_data",
          "data": {
            "text/plain": [
              "<Figure size 1000x600 with 1 Axes>"
            ],
            "image/png": "[encoded data removed]"
          },
          "metadata": {}
        }
      ]
    },
    {
      "cell_type": "markdown",
      "source": [
        "##Linear Interpolation"
      ],
      "metadata": {
        "id": "0E9pfY-VXsNF"
      }
    },
    {
      "cell_type": "code",
      "source": [
        "class Interpolate:\n",
        "    def _init_(self, x_list, y_list):\n",
        "        if any(y - x <= 0 for x, y in zip(x_list, x_list[1:])):\n",
        "            raise ValueError(\"x_list must be in strictly ascending order!\")\n",
        "        self.x_list = x_list\n",
        "        self.y_list = y_list\n",
        "        intervals = zip(x_list, x_list[1:], y_list, y_list[1:])\n",
        "        self.slopes = [(y2 - y1) / (x2 - x1) for x1, x2, y1, y2 in intervals]\n",
        "\n",
        "    def _call_(self, x):\n",
        "        if not (self.x_list[0] <= x <= self.x_list[-1]):\n",
        "            raise ValueError(\"x out of bounds!\")\n",
        "        if x == self.x_list[-1]:\n",
        "            return self.y_list[-1]\n",
        "        i = bisect_right(self.x_list, x) - 1\n",
        "        return self.y_list[i] + self.slopes[i] * (x - self.x_list[i])"
      ],
      "metadata": {
        "id": "jUcXtlwYX4Nb"
      },
      "execution_count": null,
      "outputs": []
    }
  ]
}